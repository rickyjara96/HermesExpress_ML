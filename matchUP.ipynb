{
 "cells": [
  {
   "cell_type": "code",
   "execution_count": 32,
   "metadata": {},
   "outputs": [],
   "source": [
    "import matplotlib.pyplot as plt\n",
    "%matplotlib inline \n",
    "from sklearn.cluster import KMeans\n",
    "import pandas as pd\n",
    "from pandas import DataFrame\n",
    "from sklearn import datasets\n",
    "import numpy as np"
   ]
  },
  {
   "cell_type": "code",
   "execution_count": 33,
   "metadata": {},
   "outputs": [
    {
     "output_type": "execute_result",
     "data": {
      "text/plain": "   Unnamed: 0  ids         name    Hotel           room  number_reviews  \\\n0           0    1  Habitacion1  Hotel 1  Entirehomeapt               0   \n1           1    2  Habitacion2  Hotel 1  Entirehomeapt              65   \n2           2    3  Habitacion3  Hotel 1    Privateroom               1   \n3           3    4  Habitacion4  Hotel 1    Privateroom               0   \n4           4    5  Habitacion5  Hotel 1  Entirehomeapt               0   \n\n   price  availability_365  calificacion  cluster  \n0    160               283             1        0  \n1    350               343             4        3  \n2     50                60             5        1  \n3     95               365             3        0  \n4     50               351             5        0  ",
      "text/html": "<div>\n<style scoped>\n    .dataframe tbody tr th:only-of-type {\n        vertical-align: middle;\n    }\n\n    .dataframe tbody tr th {\n        vertical-align: top;\n    }\n\n    .dataframe thead th {\n        text-align: right;\n    }\n</style>\n<table border=\"1\" class=\"dataframe\">\n  <thead>\n    <tr style=\"text-align: right;\">\n      <th></th>\n      <th>Unnamed: 0</th>\n      <th>ids</th>\n      <th>name</th>\n      <th>Hotel</th>\n      <th>room</th>\n      <th>number_reviews</th>\n      <th>price</th>\n      <th>availability_365</th>\n      <th>calificacion</th>\n      <th>cluster</th>\n    </tr>\n  </thead>\n  <tbody>\n    <tr>\n      <th>0</th>\n      <td>0</td>\n      <td>1</td>\n      <td>Habitacion1</td>\n      <td>Hotel 1</td>\n      <td>Entirehomeapt</td>\n      <td>0</td>\n      <td>160</td>\n      <td>283</td>\n      <td>1</td>\n      <td>0</td>\n    </tr>\n    <tr>\n      <th>1</th>\n      <td>1</td>\n      <td>2</td>\n      <td>Habitacion2</td>\n      <td>Hotel 1</td>\n      <td>Entirehomeapt</td>\n      <td>65</td>\n      <td>350</td>\n      <td>343</td>\n      <td>4</td>\n      <td>3</td>\n    </tr>\n    <tr>\n      <th>2</th>\n      <td>2</td>\n      <td>3</td>\n      <td>Habitacion3</td>\n      <td>Hotel 1</td>\n      <td>Privateroom</td>\n      <td>1</td>\n      <td>50</td>\n      <td>60</td>\n      <td>5</td>\n      <td>1</td>\n    </tr>\n    <tr>\n      <th>3</th>\n      <td>3</td>\n      <td>4</td>\n      <td>Habitacion4</td>\n      <td>Hotel 1</td>\n      <td>Privateroom</td>\n      <td>0</td>\n      <td>95</td>\n      <td>365</td>\n      <td>3</td>\n      <td>0</td>\n    </tr>\n    <tr>\n      <th>4</th>\n      <td>4</td>\n      <td>5</td>\n      <td>Habitacion5</td>\n      <td>Hotel 1</td>\n      <td>Entirehomeapt</td>\n      <td>0</td>\n      <td>50</td>\n      <td>351</td>\n      <td>5</td>\n      <td>0</td>\n    </tr>\n  </tbody>\n</table>\n</div>"
     },
     "metadata": {},
     "execution_count": 33
    }
   ],
   "source": [
    "dtu = pd.read_csv(\"pruebasClusterUSUARIO.csv\")\n",
    "dta = pd.read_csv(\"pruebasClusterAlojamiento.csv\")\n",
    "dtm = pd.read_csv(\"pruebasClusterMuseos.csv\")\n",
    "dta.head()"
   ]
  },
  {
   "cell_type": "code",
   "execution_count": 34,
   "metadata": {},
   "outputs": [
    {
     "output_type": "execute_result",
     "data": {
      "text/plain": "   Unnamed: 0  ids                                      Nombre          Calle  \\\n0           0    1                     Casa.Museo.Lope.de.Vega      CERVANTES   \n1           1    2              Casita.-.Museo.del.Raton.Perez         ARENAL   \n2           2    3                      Castillo.de.la.Alameda  ANTONIOSANCHA   \n3           3    4                       Cason.del.Buen.Retiro     ALFONSOXII   \n4           4    5  Centro.Social.y.Cultural.La.Casa.Encendida       VALENCIA   \n\n           Barrio  Precio  Calificacion  Tipo_Museo  cluster  \n0          CORTES      12           4.4           6        4  \n1             SOL      27           4.2           6        2  \n2  ALAMEDADEOSUNA      23           4.2          12        0  \n3    LOSJERONIMOS      11           4.4           6        4  \n4     EMBAJADORES      19           4.4           1        1  ",
      "text/html": "<div>\n<style scoped>\n    .dataframe tbody tr th:only-of-type {\n        vertical-align: middle;\n    }\n\n    .dataframe tbody tr th {\n        vertical-align: top;\n    }\n\n    .dataframe thead th {\n        text-align: right;\n    }\n</style>\n<table border=\"1\" class=\"dataframe\">\n  <thead>\n    <tr style=\"text-align: right;\">\n      <th></th>\n      <th>Unnamed: 0</th>\n      <th>ids</th>\n      <th>Nombre</th>\n      <th>Calle</th>\n      <th>Barrio</th>\n      <th>Precio</th>\n      <th>Calificacion</th>\n      <th>Tipo_Museo</th>\n      <th>cluster</th>\n    </tr>\n  </thead>\n  <tbody>\n    <tr>\n      <th>0</th>\n      <td>0</td>\n      <td>1</td>\n      <td>Casa.Museo.Lope.de.Vega</td>\n      <td>CERVANTES</td>\n      <td>CORTES</td>\n      <td>12</td>\n      <td>4.4</td>\n      <td>6</td>\n      <td>4</td>\n    </tr>\n    <tr>\n      <th>1</th>\n      <td>1</td>\n      <td>2</td>\n      <td>Casita.-.Museo.del.Raton.Perez</td>\n      <td>ARENAL</td>\n      <td>SOL</td>\n      <td>27</td>\n      <td>4.2</td>\n      <td>6</td>\n      <td>2</td>\n    </tr>\n    <tr>\n      <th>2</th>\n      <td>2</td>\n      <td>3</td>\n      <td>Castillo.de.la.Alameda</td>\n      <td>ANTONIOSANCHA</td>\n      <td>ALAMEDADEOSUNA</td>\n      <td>23</td>\n      <td>4.2</td>\n      <td>12</td>\n      <td>0</td>\n    </tr>\n    <tr>\n      <th>3</th>\n      <td>3</td>\n      <td>4</td>\n      <td>Cason.del.Buen.Retiro</td>\n      <td>ALFONSOXII</td>\n      <td>LOSJERONIMOS</td>\n      <td>11</td>\n      <td>4.4</td>\n      <td>6</td>\n      <td>4</td>\n    </tr>\n    <tr>\n      <th>4</th>\n      <td>4</td>\n      <td>5</td>\n      <td>Centro.Social.y.Cultural.La.Casa.Encendida</td>\n      <td>VALENCIA</td>\n      <td>EMBAJADORES</td>\n      <td>19</td>\n      <td>4.4</td>\n      <td>1</td>\n      <td>1</td>\n    </tr>\n  </tbody>\n</table>\n</div>"
     },
     "metadata": {},
     "execution_count": 34
    }
   ],
   "source": [
    "dtm.head()"
   ]
  },
  {
   "cell_type": "code",
   "execution_count": 35,
   "metadata": {},
   "outputs": [
    {
     "output_type": "execute_result",
     "data": {
      "text/plain": "   Unnamed: 0  ids Nombre  edad  gasto  motiv  cluster\n0           0   21   nom1    46     50      2        0\n1           1   23   nom2    44     94      4        0\n2           2   29   nom3    46     35      2        0\n3           3   31   nom4    35    151     16        0\n4           4   35   nom5    15    108      5        0",
      "text/html": "<div>\n<style scoped>\n    .dataframe tbody tr th:only-of-type {\n        vertical-align: middle;\n    }\n\n    .dataframe tbody tr th {\n        vertical-align: top;\n    }\n\n    .dataframe thead th {\n        text-align: right;\n    }\n</style>\n<table border=\"1\" class=\"dataframe\">\n  <thead>\n    <tr style=\"text-align: right;\">\n      <th></th>\n      <th>Unnamed: 0</th>\n      <th>ids</th>\n      <th>Nombre</th>\n      <th>edad</th>\n      <th>gasto</th>\n      <th>motiv</th>\n      <th>cluster</th>\n    </tr>\n  </thead>\n  <tbody>\n    <tr>\n      <th>0</th>\n      <td>0</td>\n      <td>21</td>\n      <td>nom1</td>\n      <td>46</td>\n      <td>50</td>\n      <td>2</td>\n      <td>0</td>\n    </tr>\n    <tr>\n      <th>1</th>\n      <td>1</td>\n      <td>23</td>\n      <td>nom2</td>\n      <td>44</td>\n      <td>94</td>\n      <td>4</td>\n      <td>0</td>\n    </tr>\n    <tr>\n      <th>2</th>\n      <td>2</td>\n      <td>29</td>\n      <td>nom3</td>\n      <td>46</td>\n      <td>35</td>\n      <td>2</td>\n      <td>0</td>\n    </tr>\n    <tr>\n      <th>3</th>\n      <td>3</td>\n      <td>31</td>\n      <td>nom4</td>\n      <td>35</td>\n      <td>151</td>\n      <td>16</td>\n      <td>0</td>\n    </tr>\n    <tr>\n      <th>4</th>\n      <td>4</td>\n      <td>35</td>\n      <td>nom5</td>\n      <td>15</td>\n      <td>108</td>\n      <td>5</td>\n      <td>0</td>\n    </tr>\n  </tbody>\n</table>\n</div>"
     },
     "metadata": {},
     "execution_count": 35
    }
   ],
   "source": [
    "dtu.head()"
   ]
  },
  {
   "cell_type": "code",
   "execution_count": 36,
   "metadata": {},
   "outputs": [],
   "source": [
    "price = dta['price'].values\n",
    "availability_365 = dta['availability_365'].values\n",
    "cal = dta['calificacion'].values\n",
    "idsA = dta['ids'].values\n",
    "nom = dta['name'].values\n",
    "hotel = dta['Hotel'].values\n",
    "room = dta['room'].values\n",
    "nm = dta['number_reviews'].values\n",
    "clA = dta['cluster'].values\n",
    "edad = dtu['edad'].values\n",
    "nomU = dtu['Nombre'].values\n",
    "gasto = dtu['gasto'].values\n",
    "motiv =dtu['motiv'].values\n",
    "idsU = dtu['ids'].values\n",
    "clU = dtu['cluster'].values\n",
    "idsM = dtm['ids'].values\n",
    "nomM = dtm['Nombre'].values\n",
    "calle = dtm['Calle'].values\n",
    "barrio = dtm['Barrio'].values\n",
    "precioM = dtm['Precio'].values\n",
    "calM = dtm['Calificacion'].values\n",
    "tm = dtm['Tipo_Museo'].values\n",
    "clM = dtm['cluster'].values"
   ]
  },
  {
   "cell_type": "code",
   "execution_count": 37,
   "metadata": {},
   "outputs": [
    {
     "output_type": "execute_result",
     "data": {
      "text/plain": "   Unnamed: 0  Centroide_Precio  Centroide_Disponibilidad  \\\n0           0        241.636201                330.849462   \n1           1        122.074468                 70.471358   \n2           2       1594.428571                171.142857   \n3           3        565.938053                202.884956   \n4           4        101.820399                320.934035   \n\n   Centroide_Calificacion  \n0                2.494624  \n1                2.563011  \n2                2.642857  \n3                2.530973  \n4                2.487251  ",
      "text/html": "<div>\n<style scoped>\n    .dataframe tbody tr th:only-of-type {\n        vertical-align: middle;\n    }\n\n    .dataframe tbody tr th {\n        vertical-align: top;\n    }\n\n    .dataframe thead th {\n        text-align: right;\n    }\n</style>\n<table border=\"1\" class=\"dataframe\">\n  <thead>\n    <tr style=\"text-align: right;\">\n      <th></th>\n      <th>Unnamed: 0</th>\n      <th>Centroide_Precio</th>\n      <th>Centroide_Disponibilidad</th>\n      <th>Centroide_Calificacion</th>\n    </tr>\n  </thead>\n  <tbody>\n    <tr>\n      <th>0</th>\n      <td>0</td>\n      <td>241.636201</td>\n      <td>330.849462</td>\n      <td>2.494624</td>\n    </tr>\n    <tr>\n      <th>1</th>\n      <td>1</td>\n      <td>122.074468</td>\n      <td>70.471358</td>\n      <td>2.563011</td>\n    </tr>\n    <tr>\n      <th>2</th>\n      <td>2</td>\n      <td>1594.428571</td>\n      <td>171.142857</td>\n      <td>2.642857</td>\n    </tr>\n    <tr>\n      <th>3</th>\n      <td>3</td>\n      <td>565.938053</td>\n      <td>202.884956</td>\n      <td>2.530973</td>\n    </tr>\n    <tr>\n      <th>4</th>\n      <td>4</td>\n      <td>101.820399</td>\n      <td>320.934035</td>\n      <td>2.487251</td>\n    </tr>\n  </tbody>\n</table>\n</div>"
     },
     "metadata": {},
     "execution_count": 37
    }
   ],
   "source": [
    "cnA = pd.read_csv(\"centroidAlojamiento.csv\")\n",
    "cnM = pd.read_csv(\"centroidMuseo.csv\")\n",
    "cnU = pd.read_csv(\"centroidUsuario.csv\")\n",
    "cnA"
   ]
  },
  {
   "cell_type": "code",
   "execution_count": 38,
   "metadata": {},
   "outputs": [
    {
     "output_type": "execute_result",
     "data": {
      "text/plain": "   Unnamed: 0  Centroide_Precio  Centroide_Calificacion  Centroide_Tipo\n0           0         22.687500                4.425000        8.375000\n1           1         18.066667                4.320000        3.600000\n2           2         27.125000                4.300000        5.562500\n3           3         14.000000                4.445455        8.818182\n4           4         11.250000                4.362500        3.500000",
      "text/html": "<div>\n<style scoped>\n    .dataframe tbody tr th:only-of-type {\n        vertical-align: middle;\n    }\n\n    .dataframe tbody tr th {\n        vertical-align: top;\n    }\n\n    .dataframe thead th {\n        text-align: right;\n    }\n</style>\n<table border=\"1\" class=\"dataframe\">\n  <thead>\n    <tr style=\"text-align: right;\">\n      <th></th>\n      <th>Unnamed: 0</th>\n      <th>Centroide_Precio</th>\n      <th>Centroide_Calificacion</th>\n      <th>Centroide_Tipo</th>\n    </tr>\n  </thead>\n  <tbody>\n    <tr>\n      <th>0</th>\n      <td>0</td>\n      <td>22.687500</td>\n      <td>4.425000</td>\n      <td>8.375000</td>\n    </tr>\n    <tr>\n      <th>1</th>\n      <td>1</td>\n      <td>18.066667</td>\n      <td>4.320000</td>\n      <td>3.600000</td>\n    </tr>\n    <tr>\n      <th>2</th>\n      <td>2</td>\n      <td>27.125000</td>\n      <td>4.300000</td>\n      <td>5.562500</td>\n    </tr>\n    <tr>\n      <th>3</th>\n      <td>3</td>\n      <td>14.000000</td>\n      <td>4.445455</td>\n      <td>8.818182</td>\n    </tr>\n    <tr>\n      <th>4</th>\n      <td>4</td>\n      <td>11.250000</td>\n      <td>4.362500</td>\n      <td>3.500000</td>\n    </tr>\n  </tbody>\n</table>\n</div>"
     },
     "metadata": {},
     "execution_count": 38
    }
   ],
   "source": [
    "cnM"
   ]
  },
  {
   "cell_type": "code",
   "execution_count": 39,
   "metadata": {},
   "outputs": [
    {
     "output_type": "execute_result",
     "data": {
      "text/plain": "   Unnamed: 0  Centroide_Edad  Centroide_Gasto  Centroide_Motivo\n0           0       45.848214        81.506378          8.146046\n1           1       49.060000       685.413333          6.553333\n2           2       46.907743       288.280066          8.518946\n3           3       59.909091      2591.272727          7.000000\n4           4       47.000000      1564.600000          8.514286",
      "text/html": "<div>\n<style scoped>\n    .dataframe tbody tr th:only-of-type {\n        vertical-align: middle;\n    }\n\n    .dataframe tbody tr th {\n        vertical-align: top;\n    }\n\n    .dataframe thead th {\n        text-align: right;\n    }\n</style>\n<table border=\"1\" class=\"dataframe\">\n  <thead>\n    <tr style=\"text-align: right;\">\n      <th></th>\n      <th>Unnamed: 0</th>\n      <th>Centroide_Edad</th>\n      <th>Centroide_Gasto</th>\n      <th>Centroide_Motivo</th>\n    </tr>\n  </thead>\n  <tbody>\n    <tr>\n      <th>0</th>\n      <td>0</td>\n      <td>45.848214</td>\n      <td>81.506378</td>\n      <td>8.146046</td>\n    </tr>\n    <tr>\n      <th>1</th>\n      <td>1</td>\n      <td>49.060000</td>\n      <td>685.413333</td>\n      <td>6.553333</td>\n    </tr>\n    <tr>\n      <th>2</th>\n      <td>2</td>\n      <td>46.907743</td>\n      <td>288.280066</td>\n      <td>8.518946</td>\n    </tr>\n    <tr>\n      <th>3</th>\n      <td>3</td>\n      <td>59.909091</td>\n      <td>2591.272727</td>\n      <td>7.000000</td>\n    </tr>\n    <tr>\n      <th>4</th>\n      <td>4</td>\n      <td>47.000000</td>\n      <td>1564.600000</td>\n      <td>8.514286</td>\n    </tr>\n  </tbody>\n</table>\n</div>"
     },
     "metadata": {},
     "execution_count": 39
    }
   ],
   "source": [
    "cnU"
   ]
  },
  {
   "cell_type": "code",
   "execution_count": 40,
   "metadata": {},
   "outputs": [],
   "source": [
    "cnAP = cnA['Centroide_Precio'].values\n",
    "cnAD = cnA['Centroide_Disponibilidad'].values\n",
    "cnAC = cnA['Centroide_Calificacion'].values\n",
    "cnMP = cnM['Centroide_Calificacion'].values\n",
    "cnMC = cnM['Centroide_Calificacion'].values\n",
    "cnMT = cnM['Centroide_Tipo'].values\n",
    "cnUE = cnU['Centroide_Edad'].values\n",
    "cnUG = cnU['Centroide_Gasto'].values\n",
    "cnUM = cnU['Centroide_Motivo'].values"
   ]
  },
  {
   "cell_type": "code",
   "execution_count": 41,
   "metadata": {},
   "outputs": [
    {
     "output_type": "stream",
     "name": "stdout",
     "text": "[0.03145418723902611, 0.26450837309383424, 0.11125037625864571, 1.0, 0.6037959584619699]\n"
    }
   ],
   "source": [
    "#Normalizacion de Usuarios Gasto\n",
    "maxUG = cnUG[0]\n",
    "iu = 1\n",
    "lenUG = len(cnUG)\n",
    "while iu < lenUG:\n",
    "    if maxUG > cnUG[iu]:\n",
    "        iu +=1\n",
    "    else:\n",
    "        maxUG = cnUG[iu]\n",
    "        iu +=1\n",
    "normUG = []\n",
    "niug = 0\n",
    "while niug < lenUG:\n",
    "    normUG.append(cnUG[niug] / maxUG)\n",
    "    niug +=1\n",
    "print(normUG)"
   ]
  },
  {
   "cell_type": "code",
   "execution_count": 42,
   "metadata": {},
   "outputs": [
    {
     "output_type": "stream",
     "name": "stdout",
     "text": "[0.9562270107230668, 0.7692657770901824, 1.0, 0.821697930767743, 0.9994529933419894]\n"
    }
   ],
   "source": [
    "#Normalizacion de Usuarios Motivo\n",
    "maxUM = cnUM[0]\n",
    "imo = 1\n",
    "lenUM = len(cnUM)\n",
    "while imo < lenUM:\n",
    "    if maxUM > cnUM[imo]:\n",
    "        imo +=1\n",
    "    else:\n",
    "        maxUM = cnUM[imo]\n",
    "        imo +=1\n",
    "normUM = []\n",
    "niumo = 0\n",
    "while niumo < lenUM:\n",
    "    normUM.append(cnUM[niumo] / maxUM)\n",
    "    niumo +=1\n",
    "print(normUM)"
   ]
  },
  {
   "cell_type": "code",
   "execution_count": 43,
   "metadata": {},
   "outputs": [
    {
     "output_type": "stream",
     "name": "stdout",
     "text": "[0.7652964448298281, 0.8189074355083461, 0.7829820530832751, 1.0, 0.7845220030349014]\n"
    }
   ],
   "source": [
    "#Normalizacion de Usuarios Edad\n",
    "maxUE = cnUE[0]\n",
    "ie = 1\n",
    "lenUE = len(cnUE)\n",
    "while ie < lenUE:\n",
    "    if maxUE > cnUE[ie]:\n",
    "        ie +=1\n",
    "    else:\n",
    "        maxUE = cnUE[ie]\n",
    "        ie +=1\n",
    "normUE = []\n",
    "niue = 0\n",
    "while niue < lenUG:\n",
    "    normUE.append(cnUE[niue] / maxUE)\n",
    "    niue +=1\n",
    "print(normUE)"
   ]
  },
  {
   "cell_type": "code",
   "execution_count": 44,
   "metadata": {},
   "outputs": [
    {
     "output_type": "stream",
     "name": "stdout",
     "text": "[0.3983753160344271, 0.5417079043010902, 0.4471162146709604, 1.0, 0.6941589807484356]\n"
    }
   ],
   "source": [
    "#Promedio de Normalizacion de Usuarios\n",
    "promNU = []\n",
    "pu = 0\n",
    "while pu < lenUE:\n",
    "    #promNU.append((normUE[pu]+normUG[pu]+normUM[pu])/3)\n",
    "    promNU.append((normUE[pu]+normUG[pu])/2)\n",
    "    #promNU.append((normUE[pu]+normUM[pu])/2)\n",
    "    #promNU.append((normUM[pu]+normUG[pu])/2)\n",
    "    pu +=1\n",
    "\n",
    "print(promNU)\n"
   ]
  },
  {
   "cell_type": "code",
   "execution_count": 45,
   "metadata": {},
   "outputs": [
    {
     "output_type": "stream",
     "name": "stdout",
     "text": "[0.15155034540076262, 0.07656314636643174, 1.0, 0.3549472602527917, 0.06386011950466441]\n"
    }
   ],
   "source": [
    "#Normalizacion de Alojamiento Precio\n",
    "maxAP = cnAP[0]\n",
    "ia = 1\n",
    "lenAP = len(cnAP)\n",
    "while ia < lenAP:\n",
    "    if maxAP > cnAP[ia]:\n",
    "        ia +=1\n",
    "    else:\n",
    "        maxAP = cnAP[ia]\n",
    "        ia +=1\n",
    "normAP = []\n",
    "niap = 0\n",
    "while niap < lenAP:\n",
    "    normAP.append(cnAP[niap] / maxAP)\n",
    "    niap +=1\n",
    "\n",
    "print(normAP)"
   ]
  },
  {
   "cell_type": "code",
   "execution_count": 46,
   "metadata": {},
   "outputs": [
    {
     "output_type": "stream",
     "name": "stdout",
     "text": "[1.0, 0.21300127836066174, 0.5172831653380267, 0.6132243779438977, 0.9700303974563653]\n"
    }
   ],
   "source": [
    "#Normalizacion de Alojamiento Disponibilidad\n",
    "maxAD = cnAD[0]\n",
    "idi = 1\n",
    "lenAD = len(cnAD)\n",
    "while idi < lenAD:\n",
    "    if maxAD > cnAD[idi]:\n",
    "        idi +=1\n",
    "    else:\n",
    "        maxAD = cnAD[idi]\n",
    "        idi +=1\n",
    "normAD = []\n",
    "niad = 0\n",
    "while niad < lenAD:\n",
    "    normAD.append(cnAD[niad] / maxAD)\n",
    "    niad +=1\n",
    "\n",
    "print(normAD)"
   ]
  },
  {
   "cell_type": "code",
   "execution_count": 47,
   "metadata": {},
   "outputs": [
    {
     "output_type": "stream",
     "name": "stdout",
     "text": "[0.9439116535890731, 0.9697881187242892, 1.0, 0.9576656302320019, 0.9411218313657341]\n"
    }
   ],
   "source": [
    "#Normalizacion de Alojamiento Calificacion \n",
    "maxAC = cnAC[0]\n",
    "ic = 1\n",
    "lenAC = len(cnAC)\n",
    "while ic < lenAC:\n",
    "    if maxAC > cnAC[ic]:\n",
    "        ic +=1\n",
    "    else:\n",
    "        maxAC = cnAC[ic]\n",
    "        ic +=1\n",
    "normAC = []\n",
    "niac = 0\n",
    "while niac < lenAC:\n",
    "    normAC.append(cnAC[niac] / maxAC)\n",
    "    niac +=1\n",
    "\n",
    "print(normAC)"
   ]
  },
  {
   "cell_type": "code",
   "execution_count": 48,
   "metadata": {},
   "outputs": [
    {
     "output_type": "stream",
     "name": "stdout",
     "text": "[0.5477309994949179, 0.5231756325453605, 1.0, 0.6563064452423968, 0.5024909754351993]\n"
    },
    {
     "output_type": "execute_result",
     "data": {
      "text/plain": "'\\npr1 = normAC[0] - normUE[0]\\npr2 = normAP[0] -normUG[0]  \\nif pr1 < 0:\\n    pr3 = pr1*-1\\n    if pr2 < 0:\\n        pr4 = pr2*-1\\n    else:\\n        prrr = (pr2 + pr4)/2\\nelse:\\n    if pr2 < 0:\\n        pr4 = pr2*-1\\n    else:\\n        prrr = (pr2 + pr1)/2\\nprrr2 = promNA[0]-promNU[0] \\nif prrr2 < 0:\\n    prrr3 = prrr2*-1\\n    print(prrr3)\\nelse:\\n    print(prrr2)\\nprint(prrr)\\n'"
     },
     "metadata": {},
     "execution_count": 48
    }
   ],
   "source": [
    "#Promedio de Normalizacion de Alojamiento\n",
    "promNA = []\n",
    "pa = 0\n",
    "while pa < lenAC:\n",
    "    #promNA.append((normAC[pa]+normAP[pa]+normAD[pa])/3)\n",
    "    promNA.append((normAC[pa]+normAP[pa])/2)\n",
    "    #promNA.append((normAC[pa]+normAD[pa])/2)\n",
    "    #promNA.append((normAD[pa]+normAP[pa])/2)\n",
    "    pa +=1\n",
    "\n",
    "print(promNA)\n",
    "#prueba\n",
    "\"\"\"\n",
    "pr1 = normAC[0] - normUE[0]\n",
    "pr2 = normAP[0] -normUG[0]  \n",
    "if pr1 < 0:\n",
    "    pr3 = pr1*-1\n",
    "    if pr2 < 0:\n",
    "        pr4 = pr2*-1\n",
    "    else:\n",
    "        prrr = (pr2 + pr4)/2\n",
    "else:\n",
    "    if pr2 < 0:\n",
    "        pr4 = pr2*-1\n",
    "    else:\n",
    "        prrr = (pr2 + pr1)/2\n",
    "prrr2 = promNA[0]-promNU[0] \n",
    "if prrr2 < 0:\n",
    "    prrr3 = prrr2*-1\n",
    "    print(prrr3)\n",
    "else:\n",
    "    print(prrr2)\n",
    "print(prrr)\n",
    "\"\"\""
   ]
  },
  {
   "cell_type": "code",
   "execution_count": 49,
   "metadata": {},
   "outputs": [
    {
     "output_type": "stream",
     "name": "stdout",
     "text": "[0, 1, 2, 3, 4]\n[4, 0, 4, 2, 3]\n[0.3983753160344271, 0.5417079043010902, 0.4471162146709604, 1.0, 0.6941589807484356]\n[0.5477309994949179, 0.5231756325453605, 1.0, 0.6563064452423968, 0.5024909754351993]\n"
    }
   ],
   "source": [
    "#Asignacion de Alojamiento a Usuarios\n",
    "asigUA = []\n",
    "uai = 0\n",
    "uaj = 0\n",
    "lenNA = len(promNA)\n",
    "lenNU = len(promNU)\n",
    "us = 0.15\n",
    "while uai < lenNU:\n",
    "    t1 = []\n",
    "    v1 = 0\n",
    "    uaj = 0\n",
    "    #compara todos los promedios de los productos a cada usuario\n",
    "    while uaj < lenNA:\n",
    "        #calcula diferencia entre promedios\n",
    "        v1 = promNU[uai] - promNA[uaj]\n",
    "        if v1 == 0:\n",
    "            #agrega diferencia a un arreglo temporal\n",
    "            t1.append(0)\n",
    "            minUA = t1[0]\n",
    "            uaj +=1\n",
    "        elif v1 < 0:\n",
    "            #cambia la diferencia a positiva si es negativa\n",
    "            #agrega diferencia a un arreglo temporal\n",
    "            v2 = v1*-1\n",
    "            t1.append(v2)\n",
    "            minUA = t1[0]\n",
    "            uaj +=1\n",
    "        else:\n",
    "            #agrega diferencia a un arreglo temporal\n",
    "            t1.append(v1)\n",
    "            minUA = t1[0]\n",
    "            uaj +=1\n",
    "    lent = len(t1)\n",
    "    mua = 1\n",
    "    while mua < lent:\n",
    "        #busca la diferencia mas pequeña\n",
    "        if minUA < t1[mua]:\n",
    "            mua +=1\n",
    "        else:\n",
    "            minUA = t1[mua]\n",
    "            mua +=1\n",
    "    pi = 0\n",
    "    pos = 0\n",
    "    while pi < lent:\n",
    "        #busca la posicion de la diferencia mas pequeña\n",
    "        if minUA == t1[pi]:\n",
    "            pos = pi\n",
    "            pi = lent\n",
    "        else:\n",
    "            pi +=1\n",
    "    em = 0\n",
    "    while em < lent:\n",
    "        #elimina elementos del arreglo temporal\n",
    "        t1.pop(0)\n",
    "        em +=1\n",
    "    #compara la difencia mas pequeña para ver si cumple con el umbral de semejansa\n",
    "    if minUA <= us:\n",
    "        #asigna la posicion que el cual indica que cluster de productos se asigno\n",
    "        asigUA.append(pos)\n",
    "        uai +=1\n",
    "    else:\n",
    "        #indica que no hay recomendacion que cumpla con los requisitos\n",
    "        asigUA.append(-1)\n",
    "        uai += 1 \n",
    "print([0,1,2,3,4])\n",
    "print(asigUA)\n",
    "print(promNU)\n",
    "print(promNA)\n",
    "\n",
    "#el indice representa los cluster de los usuarios y el valor dentro es el cluster asignado de los productos"
   ]
  },
  {
   "cell_type": "code",
   "execution_count": 50,
   "metadata": {},
   "outputs": [
    {
     "output_type": "stream",
     "name": "stdout",
     "text": "[0.995398773006135, 0.9717791411042945, 0.967280163599182, 1.0, 0.9813394683026585]\n"
    }
   ],
   "source": [
    "#Normalizacion Museos Precio\n",
    "maxMP = cnMP[0]\n",
    "im = 1\n",
    "lenMP = len(cnMP)\n",
    "while im < lenMP:\n",
    "    if maxMP > cnMP[im]:\n",
    "        im +=1\n",
    "    else:\n",
    "        maxMP = cnMP[im]\n",
    "        im +=1\n",
    "normMP = []\n",
    "nimp = 0\n",
    "while nimp < lenMP:\n",
    "    normMP.append(cnMP[nimp] / maxMP)\n",
    "    nimp +=1\n",
    "print(normMP)"
   ]
  },
  {
   "cell_type": "code",
   "execution_count": 51,
   "metadata": {},
   "outputs": [
    {
     "output_type": "stream",
     "name": "stdout",
     "text": "[0.995398773006135, 0.9717791411042945, 0.967280163599182, 1.0, 0.9813394683026585]\n"
    }
   ],
   "source": [
    "#Normalizacion Museos Calificacion \n",
    "maxMC = cnMC[0]\n",
    "imc = 1\n",
    "lenMC = len(cnMC)\n",
    "while imc < lenMC:\n",
    "    if maxMC > cnMC[imc]:\n",
    "        imc +=1\n",
    "    else:\n",
    "        maxMC = cnMC[imc]\n",
    "        imc +=1\n",
    "normMC = []\n",
    "nimc = 0\n",
    "while nimc < lenMC:\n",
    "    normMC.append(cnMC[nimc] / maxMC)\n",
    "    nimc +=1\n",
    "print(normMC)"
   ]
  },
  {
   "cell_type": "code",
   "execution_count": 52,
   "metadata": {},
   "outputs": [
    {
     "output_type": "stream",
     "name": "stdout",
     "text": "[0.9497422680412371, 0.40824742268041236, 0.6307989690721649, 1.0, 0.3969072164948454]\n"
    }
   ],
   "source": [
    "#Normalizacion Museos Tipo\n",
    "maxMT = cnMT[0]\n",
    "imti = 1\n",
    "lenMT = len(cnMT)\n",
    "while imti < lenMT:\n",
    "    if maxMT > cnMT[imti]:\n",
    "        imti +=1\n",
    "    else:\n",
    "        maxMT = cnMT[imti]\n",
    "        imti +=1\n",
    "normMT = []\n",
    "nimti = 0\n",
    "while nimti < lenMT:\n",
    "    normMT.append(cnMT[nimti] / maxMT)\n",
    "    nimti +=1\n",
    "print(normMT)"
   ]
  },
  {
   "cell_type": "code",
   "execution_count": 53,
   "metadata": {},
   "outputs": [
    {
     "output_type": "stream",
     "name": "stdout",
     "text": "[0.995398773006135, 0.9717791411042945, 0.967280163599182, 1.0, 0.9813394683026585]\n"
    }
   ],
   "source": [
    "#Promedio Normalizacion Museos\n",
    "promNM = []\n",
    "pm = 0\n",
    "while pm < lenMC:\n",
    "    #promNM.append((normMC[pm]+normMP[pm]+normMT[pm])/3)\n",
    "    promNM.append((normMC[pm]+normMP[pm])/2)\n",
    "    #promNM.append((normMT[pm]+normMP[pm])/2)\n",
    "    #promNM.append((normMC[pm]+normMT[pm])/2)\n",
    "    pm +=1\n",
    "print(promNM)\n"
   ]
  },
  {
   "cell_type": "code",
   "execution_count": 54,
   "metadata": {},
   "outputs": [
    {
     "output_type": "stream",
     "name": "stdout",
     "text": "[2, 2, 2, 3, 2]\n[0.3983753160344271, 0.5417079043010902, 0.4471162146709604, 1.0, 0.6941589807484356]\n[0.995398773006135, 0.9717791411042945, 0.967280163599182, 1.0, 0.9813394683026585]\n"
    }
   ],
   "source": [
    "#Asignacion de Museos a Usuarios\n",
    "asigUM = []\n",
    "uaim = 0\n",
    "uajm = 0\n",
    "lenNM = len(promNM)\n",
    "lenNU = len(promNU)\n",
    "usm = 0.6\n",
    "while uaim < lenNU:\n",
    "    tm1 = []\n",
    "    vm1 = 0\n",
    "    uajm = 0\n",
    "    minUM = 0\n",
    "    #compara todos los promedios de los productos a cada usuario\n",
    "    while uajm < lenNM:\n",
    "        #calcula diferencia entre promedios\n",
    "        vm1 = promNU[uaim] - promNM[uajm]\n",
    "        if vm1 == 0:\n",
    "            #agrega diferencia a un arreglo temporal\n",
    "            tm1.append(0)\n",
    "            minUM = tm1[0]\n",
    "            uajm +=1\n",
    "        elif vm1 < 0:\n",
    "            #cambia la diferencia a positiva si es negativa\n",
    "            #agrega diferencia a un arreglo temporal\n",
    "            vm2 = vm1*-1\n",
    "            tm1.append(vm2)\n",
    "            minUM = tm1[0]\n",
    "            uajm +=1\n",
    "        else:\n",
    "            #agrega diferencia a un arreglo temporal\n",
    "            tm1.append(vm1)\n",
    "            minUM = tm1[0]\n",
    "            uajm +=1\n",
    "    #print(tm1)\n",
    "    lentm = len(tm1)\n",
    "    muam = 1\n",
    "    while muam < lentm:\n",
    "        #busca la diferencia mas pequeña \n",
    "        if minUM < tm1[muam]:\n",
    "            muam +=1\n",
    "        else:\n",
    "            minUM = tm1[muam]\n",
    "            muam +=1\n",
    "    #print(minUM)\n",
    "    pim = 0\n",
    "    posm = 0\n",
    "    while pim < lentm:\n",
    "        #busca la posicion de la diferencia mas pequeña\n",
    "        if minUM == tm1[pim]:\n",
    "            posm = pim\n",
    "            pim = lentm\n",
    "        else:\n",
    "            pim +=1\n",
    "    emm = 0\n",
    "    while emm < lentm:\n",
    "        #elimina elementos del arreglo temporal\n",
    "        tm1.pop(0)\n",
    "        emm +=1\n",
    "    #compara la difencia mas pequeña para ver si cumple con el umbral de semejansa\n",
    "    if minUM <= usm:\n",
    "        #asigna la posicion que el cual indica que cluster de productos se asigno\n",
    "        asigUM.append(posm)\n",
    "        uaim +=1\n",
    "    else:\n",
    "        #indica que no hay recomendacion que cumpla con los requisitos\n",
    "        asigUM.append(-1)\n",
    "        uaim += 1 \n",
    "\n",
    "print(asigUM)\n",
    "print(promNU)\n",
    "print(promNM)\n",
    "#el indice representa los cluster de los usuarios y el valor dentro es el cluster asignado de los productos"
   ]
  },
  {
   "cell_type": "code",
   "execution_count": 55,
   "metadata": {},
   "outputs": [],
   "source": [
    "#Asignacion que marca el grupo de alojamiento a cada usuario\n",
    "cluUA = []\n",
    "i = 0\n",
    "itt = 0 \n",
    "lenCU = len(clU)\n",
    "lenAUA = len(asigUA)\n",
    "while i < lenCU:\n",
    "    itt = 0\n",
    "    while itt < lenAUA:\n",
    "        #Si el indice de itt es igual al valor de clU[i] se le asigna el valor en asigUA[itt]\n",
    "        if clU[i] == itt:\n",
    "            cluUA.append(asigUA[itt])\n",
    "            itt +=1\n",
    "        else:\n",
    "            itt +=1\n",
    "    i += 1"
   ]
  },
  {
   "cell_type": "code",
   "execution_count": 56,
   "metadata": {},
   "outputs": [],
   "source": [
    "#Asignacion que marca el grupo de museo a cada usuario\n",
    "cluUM = []\n",
    "imu = 0\n",
    "imtt = 0 \n",
    "lenAUM = len(asigUM)\n",
    "while imu < lenCU:\n",
    "    imtt = 0\n",
    "    while imtt < lenAUM:\n",
    "        #Si el indice de imtt es igual al valor de clU[imu] se le asigna el valor en asigUA[imtt]\n",
    "        if clU[imu] == imtt:\n",
    "            cluUM.append(asigUM[imtt])\n",
    "            imtt +=1\n",
    "        else:\n",
    "            imtt +=1\n",
    "    imu += 1"
   ]
  },
  {
   "cell_type": "code",
   "execution_count": 57,
   "metadata": {},
   "outputs": [
    {
     "output_type": "execute_result",
     "data": {
      "text/plain": "         ID   Nombre  Edad  Gasto  Motivo  Cluster  Cluster Alojamiento  \\\n0        21     nom1    46     50       2        0                    4   \n1        23     nom2    44     94       4        0                    4   \n2        29     nom3    46     35       2        0                    4   \n3        31     nom4    35    151      16        0                    4   \n4        35     nom5    15    108       5        0                    4   \n...     ...      ...   ...    ...     ...      ...                  ...   \n2366  14359  nom2367    76     30       8        0                    4   \n2367  14364  nom2368    64     33       7        0                    4   \n2368  14366  nom2369    33    177       7        0                    4   \n2369  14372  nom2370    47     87       2        0                    4   \n2370  14378  nom2371    17    108       8        0                    4   \n\n      Cluster Museo  \n0                 2  \n1                 2  \n2                 2  \n3                 2  \n4                 2  \n...             ...  \n2366              2  \n2367              2  \n2368              2  \n2369              2  \n2370              2  \n\n[2371 rows x 8 columns]",
      "text/html": "<div>\n<style scoped>\n    .dataframe tbody tr th:only-of-type {\n        vertical-align: middle;\n    }\n\n    .dataframe tbody tr th {\n        vertical-align: top;\n    }\n\n    .dataframe thead th {\n        text-align: right;\n    }\n</style>\n<table border=\"1\" class=\"dataframe\">\n  <thead>\n    <tr style=\"text-align: right;\">\n      <th></th>\n      <th>ID</th>\n      <th>Nombre</th>\n      <th>Edad</th>\n      <th>Gasto</th>\n      <th>Motivo</th>\n      <th>Cluster</th>\n      <th>Cluster Alojamiento</th>\n      <th>Cluster Museo</th>\n    </tr>\n  </thead>\n  <tbody>\n    <tr>\n      <th>0</th>\n      <td>21</td>\n      <td>nom1</td>\n      <td>46</td>\n      <td>50</td>\n      <td>2</td>\n      <td>0</td>\n      <td>4</td>\n      <td>2</td>\n    </tr>\n    <tr>\n      <th>1</th>\n      <td>23</td>\n      <td>nom2</td>\n      <td>44</td>\n      <td>94</td>\n      <td>4</td>\n      <td>0</td>\n      <td>4</td>\n      <td>2</td>\n    </tr>\n    <tr>\n      <th>2</th>\n      <td>29</td>\n      <td>nom3</td>\n      <td>46</td>\n      <td>35</td>\n      <td>2</td>\n      <td>0</td>\n      <td>4</td>\n      <td>2</td>\n    </tr>\n    <tr>\n      <th>3</th>\n      <td>31</td>\n      <td>nom4</td>\n      <td>35</td>\n      <td>151</td>\n      <td>16</td>\n      <td>0</td>\n      <td>4</td>\n      <td>2</td>\n    </tr>\n    <tr>\n      <th>4</th>\n      <td>35</td>\n      <td>nom5</td>\n      <td>15</td>\n      <td>108</td>\n      <td>5</td>\n      <td>0</td>\n      <td>4</td>\n      <td>2</td>\n    </tr>\n    <tr>\n      <th>...</th>\n      <td>...</td>\n      <td>...</td>\n      <td>...</td>\n      <td>...</td>\n      <td>...</td>\n      <td>...</td>\n      <td>...</td>\n      <td>...</td>\n    </tr>\n    <tr>\n      <th>2366</th>\n      <td>14359</td>\n      <td>nom2367</td>\n      <td>76</td>\n      <td>30</td>\n      <td>8</td>\n      <td>0</td>\n      <td>4</td>\n      <td>2</td>\n    </tr>\n    <tr>\n      <th>2367</th>\n      <td>14364</td>\n      <td>nom2368</td>\n      <td>64</td>\n      <td>33</td>\n      <td>7</td>\n      <td>0</td>\n      <td>4</td>\n      <td>2</td>\n    </tr>\n    <tr>\n      <th>2368</th>\n      <td>14366</td>\n      <td>nom2369</td>\n      <td>33</td>\n      <td>177</td>\n      <td>7</td>\n      <td>0</td>\n      <td>4</td>\n      <td>2</td>\n    </tr>\n    <tr>\n      <th>2369</th>\n      <td>14372</td>\n      <td>nom2370</td>\n      <td>47</td>\n      <td>87</td>\n      <td>2</td>\n      <td>0</td>\n      <td>4</td>\n      <td>2</td>\n    </tr>\n    <tr>\n      <th>2370</th>\n      <td>14378</td>\n      <td>nom2371</td>\n      <td>17</td>\n      <td>108</td>\n      <td>8</td>\n      <td>0</td>\n      <td>4</td>\n      <td>2</td>\n    </tr>\n  </tbody>\n</table>\n<p>2371 rows × 8 columns</p>\n</div>"
     },
     "metadata": {},
     "execution_count": 57
    }
   ],
   "source": [
    "UsersWMA = {'ID': idsU, 'Nombre' : nomU ,'Edad' : edad, 'Gasto' : gasto, 'Motivo' : motiv, 'Cluster' : clU, 'Cluster Alojamiento' : cluUA, 'Cluster Museo' : cluUM }\n",
    "dfCluster = DataFrame(UsersWMA,columns=[ 'ID', 'Nombre','Edad','Gasto', 'Motivo', 'Cluster', 'Cluster Alojamiento', 'Cluster Museo'] )\n",
    "dfCluster"
   ]
  },
  {
   "cell_type": "code",
   "execution_count": 58,
   "metadata": {},
   "outputs": [],
   "source": [
    "dfCluster.to_csv('UsuariosGruposAsignados.csv')"
   ]
  },
  {
   "cell_type": "code",
   "execution_count": null,
   "metadata": {},
   "outputs": [],
   "source": []
  }
 ],
 "metadata": {
  "language_info": {
   "codemirror_mode": {
    "name": "ipython",
    "version": 3
   },
   "file_extension": ".py",
   "mimetype": "text/x-python",
   "name": "python",
   "nbconvert_exporter": "python",
   "pygments_lexer": "ipython3",
   "version": "3.8.2-final"
  },
  "orig_nbformat": 2,
  "kernelspec": {
   "name": "python38232bitea2b7ec917e14fa9a2a8fca91be0f4bc",
   "display_name": "Python 3.8.2 32-bit"
  }
 },
 "nbformat": 4,
 "nbformat_minor": 2
}